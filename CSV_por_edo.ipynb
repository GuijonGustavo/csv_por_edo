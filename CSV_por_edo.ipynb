{
 "cells": [
  {
   "cell_type": "code",
   "execution_count": 159,
   "metadata": {},
   "outputs": [],
   "source": [
    "import numpy as np\n",
    "import matplotlib.pyplot as plt\n",
    "import pandas as pd\n",
    "import sys, os\n"
   ]
  },
  {
   "cell_type": "code",
   "execution_count": 160,
   "metadata": {},
   "outputs": [],
   "source": [
    "df = pd.read_csv(\"/home/wattie/indicePobreza/promedios_mpio_ie_2010.csv\")\n",
    "campos = pd.read_csv(\"/home/wattie/indicePobreza/consulta/campos.csv\")"
   ]
  },
  {
   "cell_type": "code",
   "execution_count": 243,
   "metadata": {},
   "outputs": [],
   "source": [
    "for i in range (1,2): #1 al 33 estados de la republica\n",
    "\n",
    "    edo = df[['Cve_ent','Cve_mpio','Entidad','Municipio','Promedio_ie_2010','Pza_por','Pza_mod_por','Pza_ext_por','Vul_CS_por','Vul_Ing_por','NP_NV_por','Pza_per','Pza_mod_per','Pza_ext_per','Vul_CS_per','Vul_Ing_per','NP_NV_per']]\n",
    "    edo= edo.loc[edo['Cve_ent']==i]\n",
    "   # name_field = campos.values[0][1]\n",
    "   # cve_field = campos.values[1][i]\n",
    "    nomEstado = edo['Entidad'].unique()\n",
    "    #os.chdir(\"/home/wattie/indicePobreza/graficas\")\n",
    "    #os.mkdir(nomEstado[0],0o777)\n",
    "    edo.count().unique()\n",
    "    #edo_cols = edo.columns[5:17] #5:17\n",
    "    edo_cols = edo.columns[5:6] #5:17  Apartir de [11:] es número de personas, antes es porcentaje\n",
    "    #edo_cols\n",
    "\n",
    "    #for j in range(12):    #El rango es 12. Pues en el renglon 23 se especifica de qué campo a qué campo (17-5) \n",
    "    for j in range(1):\n",
    "        cve = edo_cols[j]\n",
    "        for k in range(58): #Este es el numeoro de campos que va a comparar\n",
    "            if campos.values[0][k] == cve:\n",
    "                nom = campos.values[1][k]\n",
    "        \n",
    "        #Normalizar el promedio de ie\n",
    "    \n",
    "        max_ie_edo = edo['Promedio_ie_2010'].max()\n",
    "        edo.loc[:, 'ieco'] = edo['Promedio_ie_2010']/max_ie_edo\n",
    "        max_pza = edo[cve].max()\n",
    "        edo.loc[:, 'pbza'] = edo[cve]/max_pza\n",
    "        edo = edo.sort_values(by='pbza', ascending=True)"
   ]
  },
  {
   "cell_type": "code",
   "execution_count": 244,
   "metadata": {},
   "outputs": [],
   "source": [
    "edor = edo.round(2)"
   ]
  },
  {
   "cell_type": "code",
   "execution_count": 245,
   "metadata": {},
   "outputs": [],
   "source": [
    "col = edor[['Municipio','ieco','pbza']]"
   ]
  },
  {
   "cell_type": "code",
   "execution_count": 246,
   "metadata": {},
   "outputs": [],
   "source": [
    "col = col.rename({'Municipio':'mun'}, axis='columns')"
   ]
  },
  {
   "cell_type": "code",
   "execution_count": 247,
   "metadata": {},
   "outputs": [],
   "source": [
    "jsondf = col.to_json(orient='records')"
   ]
  },
  {
   "cell_type": "code",
   "execution_count": 248,
   "metadata": {},
   "outputs": [
    {
     "data": {
      "text/plain": [
       "'[{\"mun\":\"Aguascalientes\",\"ieco\":1.0,\"pbza\":0.44},{\"mun\":\"San Francisco de los Romo\",\"ieco\":0.98,\"pbza\":0.62},{\"mun\":\"Jes\\\\u00fas Mar\\\\u00eda\",\"ieco\":0.84,\"pbza\":0.62},{\"mun\":\"Pabell\\\\u00f3n de Arteaga\",\"ieco\":0.95,\"pbza\":0.75},{\"mun\":\"Rinc\\\\u00f3n de Romos\",\"ieco\":0.85,\"pbza\":0.75},{\"mun\":\"Cos\\\\u00edo\",\"ieco\":0.93,\"pbza\":0.79},{\"mun\":\"Asientos\",\"ieco\":0.9,\"pbza\":0.96},{\"mun\":\"San Jos\\\\u00e9 de Gracia\",\"ieco\":0.53,\"pbza\":0.96},{\"mun\":\"Tepezal\\\\u00e1\",\"ieco\":0.8,\"pbza\":0.96},{\"mun\":\"El Llano\",\"ieco\":0.99,\"pbza\":0.97},{\"mun\":\"Calvillo\",\"ieco\":0.71,\"pbza\":1.0}]'"
      ]
     },
     "execution_count": 248,
     "metadata": {},
     "output_type": "execute_result"
    }
   ],
   "source": [
    "jsondf"
   ]
  },
  {
   "cell_type": "code",
   "execution_count": 249,
   "metadata": {},
   "outputs": [],
   "source": [
    "col.to_json('/var/www/html/d3/trent/ags.json', orient='records')"
   ]
  },
  {
   "cell_type": "code",
   "execution_count": null,
   "metadata": {},
   "outputs": [],
   "source": []
  }
 ],
 "metadata": {
  "kernelspec": {
   "display_name": "Python 3",
   "language": "python",
   "name": "python3"
  },
  "language_info": {
   "codemirror_mode": {
    "name": "ipython",
    "version": 3
   },
   "file_extension": ".py",
   "mimetype": "text/x-python",
   "name": "python",
   "nbconvert_exporter": "python",
   "pygments_lexer": "ipython3",
   "version": "3.5.3"
  }
 },
 "nbformat": 4,
 "nbformat_minor": 2
}
